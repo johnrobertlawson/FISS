{
 "cells": [
  {
   "cell_type": "markdown",
   "metadata": {},
   "source": [
    "# Fractional Ignorance (FI) and its Skill Score (FISS)\n",
    "## John R. Lawson, 2019\n",
    "### CIMMS/NSSL, Norman, OK, USA."
   ]
  },
  {
   "cell_type": "markdown",
   "metadata": {},
   "source": [
    "We start with the canonical Shannon (1948, Bell Labs) equation for information theory:\n",
    "\n",
    "H = \n",
    "\n",
    "The measure of information that is provided by the observation of event k is:\n",
    "\n",
    "\\begin{align}\n",
    "IGN = - log_2 Pr(k)\n",
    "\\end{align}\n",
    "\n",
    "where Pr(k) is the probability of the event k occurring. This can also be considered the optimal data compression scheme to represent event k. For instance:"
   ]
  },
  {
   "cell_type": "code",
   "execution_count": 69,
   "metadata": {},
   "outputs": [
    {
     "data": {
      "application/javascript": [
       "IPython.OutputArea.prototype._should_scroll = function(lines) {\n",
       "    return false;\n",
       "}\n"
      ],
      "text/plain": [
       "<IPython.core.display.Javascript object>"
      ]
     },
     "metadata": {},
     "output_type": "display_data"
    }
   ],
   "source": [
    "%%javascript\n",
    "IPython.OutputArea.prototype._should_scroll = function(lines) {\n",
    "    return false;\n",
    "}"
   ]
  },
  {
   "cell_type": "code",
   "execution_count": 70,
   "metadata": {
    "scrolled": false
   },
   "outputs": [
    {
     "name": "stdout",
     "output_type": "stream",
     "text": [
      "Automatic pdb calling has been turned OFF\n",
      "1.0\n"
     ]
    }
   ],
   "source": [
    "%pdb off\n",
    "%matplotlib inline\n",
    "import matplotlib as M\n",
    "import matplotlib.pyplot as plt\n",
    "import numpy as N\n",
    "N.set_printoptions(precision=2)\n",
    "\n",
    "\n",
    "\n",
    "def compute_ign(pr_k):\n",
    "    return -N.log2(pr_k)\n",
    "\n",
    "# The probability of a coin landing on heads\n",
    "pr_k = 0.5\n",
    "# This yields ignorance of 1 bit:\n",
    "print(compute_ign(pr_k))"
   ]
  },
  {
   "cell_type": "markdown",
   "metadata": {},
   "source": [
    "To test this in a meteorological context, let's generate some synthetic data. In the following, `fcst_cube` is a 3x3x3 cube, representing three ensemble members and their prognosis of 2-m temperature (in Celsius) after one hour. The variable `obs_cube` shows the observed 2-m temperature, assuming zero observational error. Then, we compute ignorance of temperatures exceeding 10 C before the observations are received:"
   ]
  },
  {
   "cell_type": "code",
   "execution_count": 71,
   "metadata": {
    "scrolled": true
   },
   "outputs": [
    {
     "name": "stdout",
     "output_type": "stream",
     "text": [
      "Probabilities:\n",
      " [[0.67 0.33 0.67]\n",
      " [0.   0.33 0.67]\n",
      " [0.33 0.33 0.33]]\n"
     ]
    },
    {
     "data": {
      "text/plain": [
       "<matplotlib.collections.QuadMesh at 0x115b88780>"
      ]
     },
     "metadata": {},
     "output_type": "display_data"
    },
    {
     "data": {
      "image/png": "[encoded data removed]",
      "text/plain": [
       "<Figure size 432x288 with 2 Axes>"
      ]
     },
     "metadata": {
      "needs_background": "light"
     },
     "output_type": "display_data"
    }
   ],
   "source": [
    "def compute_ign_bounded(pr_k,pr_min=0.02,pr_max=0.98):\n",
    "    pr_k = N.array(pr_k)\n",
    "    pr_k[pr_k < pr_min] = pr_min\n",
    "    pr_k[pr_k > pr_max] = pr_max\n",
    "    return compute_ign(pr_k)\n",
    "\n",
    "def prob_of_exceedence(arr4D,thresh):\n",
    "    # A 4D array is converted to a 2D probability array\n",
    "    exceed = arr4D > thresh\n",
    "    nt, nens, nlat, nlon = arr4D.shape\n",
    "    probs = N.sum(exceed,axis=1)/nens\n",
    "    return probs[0,:,:]\n",
    "\n",
    "# The dimensions are [ensemble, latitude, longitude]\n",
    "fcst_cube = N.random.uniform(low=5.0,high=15.0,size=(1,3,3,3))\n",
    "obs_cube = N.random.uniform(low=8.0,high=12.0,size=(1,1,3,3))\n",
    "\n",
    "# Existing ignorance, spatially:\n",
    "fcst_prob = prob_of_exceedence(fcst_cube,10.0)\n",
    "print(\"Probabilities:\\n\",fcst_prob)\n",
    "\n",
    "fig,ax = plt.subplots(1)\n",
    "pf = ax.pcolormesh(N.flipud(fcst_prob),vmin=0,vmax=1,cmap=M.cm.Reds)\n",
    "plt.colorbar(pf)\n",
    "ax.set_title(\"Probabilities\")\n",
    "display(pf)\n",
    "\n",
    "\n"
   ]
  },
  {
   "cell_type": "code",
   "execution_count": 72,
   "metadata": {
    "scrolled": false
   },
   "outputs": [
    {
     "name": "stdout",
     "output_type": "stream",
     "text": [
      "Ignorance: [[0.58 1.58 0.58]\n",
      " [5.64 1.58 0.58]\n",
      " [1.58 1.58 1.58]]\n"
     ]
    },
    {
     "data": {
      "text/plain": [
       "<matplotlib.collections.QuadMesh at 0x1156e9b00>"
      ]
     },
     "metadata": {},
     "output_type": "display_data"
    },
    {
     "data": {
      "image/png": "[encoded data removed]",
      "text/plain": [
       "<Figure size 432x288 with 2 Axes>"
      ]
     },
     "metadata": {
      "needs_background": "light"
     },
     "output_type": "display_data"
    }
   ],
   "source": [
    "ignorance_square = compute_ign_bounded(fcst_prob)\n",
    "\n",
    "# Plot 3x3 raw and thresholded?\n",
    "print(\"Ignorance:\",ignorance_square)\n",
    "\n",
    "fig,ax = plt.subplots(1)\n",
    "pf = ax.pcolormesh(N.flipud(ignorance_square),cmap=M.cm.Blues)\n",
    "plt.colorbar(pf)\n",
    "ax.set_title(\"Ignorance\")\n",
    "display(pf)"
   ]
  },
  {
   "cell_type": "markdown",
   "metadata": {},
   "source": [
    "This is the climatological ignorance in the event a perfect model is being used (e.g., it can be ran over a frozen dataset).\n",
    "\n",
    "But what is the ignorance before the forecast is received? This is analogous to the problem of determining a climatology for heterogeneous fields (such as radar reflectivity at the thunderstorm scale). In the event of zero prior information (even memory) available to the forecaster, we can define this as naive ignorance (NIGN). However, the more realistic ignorance before a forecast is issued is the typical ignorance (TIGN). This is typically persistence or climatology in traditional, synoptic-scale studies. However, this makes little sense in the thunderstorm context. \n",
    "\n",
    "For this section, we now consider a 10x10x10 cube. Instead of evaluating at a specific point in time and space, let us define a temporal and spatial tolerance, which mimicks the filtering performed by a forecaster when they typically consider a nowcast (this is related to the assumption of optimal encoding of information). Here, we set $\\pm$5 minutes and a 3x3 window.\n",
    "\n",
    "To introduce tolerance, we:\n",
    "1. Create a 4D hypercube window across time, ensemble member, latitude, and longitude,\n",
    "2. Start at the top-left corner\n",
    "3. Compute the fraction of voxels within the window that exceed a given threshold\n",
    "4. Assign this value to the central voxel\n",
    "5. Continue until every permutation is complete (no computation is performed if the hypercube extends over the dataset hypercube boundaries)\n",
    "\n",
    "Let us recompute ignorance with this tolerance applied. For sanity, we expect the resulting ignorance to fall, given the lower amount of information required to pin down exact locations of exceedence:"
   ]
  },
  {
   "cell_type": "code",
   "execution_count": 73,
   "metadata": {
    "scrolled": false
   },
   "outputs": [
    {
     "data": {
      "text/plain": [
       "<matplotlib.collections.QuadMesh at 0x115c16cc0>"
      ]
     },
     "metadata": {},
     "output_type": "display_data"
    },
    {
     "data": {
      "image/png": "[encoded data removed]",
      "text/plain": [
       "<Figure size 432x288 with 2 Axes>"
      ]
     },
     "metadata": {
      "needs_background": "light"
     },
     "output_type": "display_data"
    }
   ],
   "source": [
    "import itertools\n",
    "\n",
    "fcst_cube = N.random.uniform(low=5.0,high=15.0,size=(3,10,10,10))\n",
    "obs_cube = N.random.uniform(low=8.0,high=12.0,size=(3,1,10,10))\n",
    "\n",
    "#fcst_prob = prob_of_exceedence(fcst_cube,10.0)\n",
    "\n",
    "ign = N.zeros([1,1,10,10])\n",
    "# For each window, count number of voxels in 4D window\n",
    "# This maintains the ensemble pdf\n",
    "# divided by number of voxels, giving fraction\n",
    "for i,j in itertools.product(N.arange(1,9),N.arange(1,9)):\n",
    "    window_i = slice(i-1,i+2)\n",
    "    window_j = slice(j-1,j+2)\n",
    "    # Grab the window subset\n",
    "    window = fcst_cube[:,:,window_i,window_j]\n",
    "    fraction = N.sum(window > 10.0)/window.size\n",
    "    # fraction is % of voxels over threshold\n",
    "    \n",
    "    # ign is the ignorance of the forecast\n",
    "    ign[0,0,i,j] = compute_ign_bounded(fraction)\n",
    "\n",
    "fig,ax = plt.subplots(1)\n",
    "pf = ax.pcolormesh(N.flipud(ign[0,0,:,:]),cmap=M.cm.Greens)\n",
    "plt.colorbar(pf)\n",
    "ax.set_title(\"Ignorance\")\n",
    "display(pf)"
   ]
  },
  {
   "cell_type": "markdown",
   "metadata": {},
   "source": [
    "For a given pixel above, if the observation exceeds the threshold, then the information provided by the forecast is given above. Otherwise, zero information is gained for that pixel.\n",
    "\n"
   ]
  },
  {
   "cell_type": "code",
   "execution_count": 74,
   "metadata": {},
   "outputs": [
    {
     "data": {
      "text/plain": [
       "<matplotlib.collections.QuadMesh at 0x115e1ee10>"
      ]
     },
     "metadata": {},
     "output_type": "display_data"
    },
    {
     "data": {
      "image/png": "[encoded data removed]",
      "text/plain": [
       "<Figure size 432x288 with 2 Axes>"
      ]
     },
     "metadata": {
      "needs_background": "light"
     },
     "output_type": "display_data"
    }
   ],
   "source": [
    "observed = N.zeros([1,1,10,10])\n",
    "\n",
    "for i,j in itertools.product(N.arange(1,9),N.arange(1,9)):\n",
    "    window_i = slice(i-1,i+2)\n",
    "    window_j = slice(j-1,j+2)\n",
    "    # Grab the window subset\n",
    "    window = obs_cube[:,:,window_i,window_j]\n",
    "    fraction = N.sum(window > 10.0)/window.size\n",
    "    observed[0,0,i,j] = fraction\n",
    "    \n",
    "# Find where observed and forecast fraction is equal\n",
    "# This indicates information communicated\n",
    "# Near values get \"pity points\" as it is (non?) local\n",
    "info_gain = observed * ign\n",
    "\n",
    "fig,ax = plt.subplots(1)\n",
    "pf = ax.pcolormesh(N.flipud(info_gain[0,0,:,:]),cmap=M.cm.Greys)\n",
    "plt.colorbar(pf)\n",
    "ax.set_title(\"Info gain (bits)\")\n",
    "display(pf)"
   ]
  },
  {
   "cell_type": "code",
   "execution_count": null,
   "metadata": {},
   "outputs": [],
   "source": []
  }
 ],
 "metadata": {
  "kernelspec": {
   "display_name": "Python 3",
   "language": "python",
   "name": "python3"
  },
  "language_info": {
   "codemirror_mode": {
    "name": "ipython",
    "version": 3
   },
   "file_extension": ".py",
   "mimetype": "text/x-python",
   "name": "python",
   "nbconvert_exporter": "python",
   "pygments_lexer": "ipython3",
   "version": "3.7.1"
  }
 },
 "nbformat": 4,
 "nbformat_minor": 2
}
